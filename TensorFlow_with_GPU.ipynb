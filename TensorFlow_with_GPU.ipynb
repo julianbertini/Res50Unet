{
  "nbformat": 4,
  "nbformat_minor": 0,
  "metadata": {
    "colab": {
      "name": "TensorFlow with GPU",
      "provenance": [],
      "collapsed_sections": [],
      "toc_visible": true,
      "include_colab_link": true
    },
    "kernelspec": {
      "display_name": "Python 3",
      "name": "python3"
    },
    "accelerator": "GPU"
  },
  "cells": [
    {
      "cell_type": "markdown",
      "metadata": {
        "id": "view-in-github",
        "colab_type": "text"
      },
      "source": [
        "<a href=\"https://colab.research.google.com/github/julianbertini/Res50Unet/blob/master/TensorFlow_with_GPU.ipynb\" target=\"_parent\"><img src=\"https://colab.research.google.com/assets/colab-badge.svg\" alt=\"Open In Colab\"/></a>"
      ]
    },
    {
      "cell_type": "markdown",
      "metadata": {
        "colab_type": "text",
        "id": "tMce8muBqXQP"
      },
      "source": [
        "# Tensorflow with GPU\n",
        "\n",
        "This notebook provides an introduction to computing on a [GPU](https://cloud.google.com/gpu) in Colab. In this notebook you will connect to a GPU, and then run some basic TensorFlow operations on both the CPU and a GPU, observing the speedup provided by using the GPU.\n"
      ]
    },
    {
      "cell_type": "markdown",
      "metadata": {
        "colab_type": "text",
        "id": "oM_8ELnJq_wd"
      },
      "source": [
        "## Enabling and testing the GPU\n",
        "\n",
        "First, you'll need to enable GPUs for the notebook:\n",
        "\n",
        "- Navigate to Edit→Notebook Settings\n",
        "- select GPU from the Hardware Accelerator drop-down\n",
        "\n",
        "Next, we'll confirm that we can connect to the GPU with tensorflow:"
      ]
    },
    {
      "cell_type": "code",
      "metadata": {
        "colab_type": "code",
        "id": "sXnDmXR7RDr2",
        "colab": {
          "base_uri": "https://localhost:8080/",
          "height": 51
        },
        "outputId": "230c8c7a-13fd-46b3-c5b1-9c6330cfd846"
      },
      "source": [
        "%tensorflow_version 2.x\n",
        "import tensorflow as tf\n",
        "device_name = tf.test.gpu_device_name()\n",
        "if device_name != '/device:GPU:0':\n",
        "  raise SystemError('GPU device not found')\n",
        "print('Found GPU at: {}'.format(device_name))"
      ],
      "execution_count": null,
      "outputs": [
        {
          "output_type": "stream",
          "text": [
            "TensorFlow 2.x selected.\n",
            "Found GPU at: /device:GPU:0\n"
          ],
          "name": "stdout"
        }
      ]
    },
    {
      "cell_type": "code",
      "metadata": {
        "id": "WWhXOAh6nrts",
        "colab_type": "code",
        "colab": {
          "base_uri": "https://localhost:8080/",
          "height": 104
        },
        "outputId": "c1e0b514-682f-41fd-eee0-04355c94eab8"
      },
      "source": [
        "!pip install gputil\n",
        "!pip install psutil\n",
        "!pip install humanize\n",
        "import psutil\n",
        "import humanize\n",
        "import os\n",
        "import GPUtil as GPU\n",
        "GPUs = GPU.getGPUs()\n",
        "# XXX: only one GPU on Colab and isn’t guaranteed\n",
        "gpu = GPUs[0]\n",
        "def printm():\n",
        " process = psutil.Process(os.getpid())\n",
        " print(\"Gen RAM Free: \" + humanize.naturalsize( psutil.virtual_memory().available ), \" | Proc size: \" + humanize.naturalsize( process.memory_info().rss))\n",
        " print(\"GPU RAM Free: {0:.0f}MB | Used: {1:.0f}MB | Util {2:3.0f}% | Total {3:.0f}MB\".format(gpu.memoryFree, gpu.memoryUsed, gpu.memoryUtil*100, gpu.memoryTotal))\n",
        "printm()"
      ],
      "execution_count": 5,
      "outputs": [
        {
          "output_type": "stream",
          "text": [
            "Requirement already satisfied: gputil in /usr/local/lib/python3.6/dist-packages (1.4.0)\n",
            "Requirement already satisfied: psutil in /usr/local/lib/python3.6/dist-packages (5.4.8)\n",
            "Requirement already satisfied: humanize in /usr/local/lib/python3.6/dist-packages (0.5.1)\n",
            "Gen RAM Free: 12.8 GB  | Proc size: 112.7 MB\n",
            "GPU RAM Free: 15079MB | Used: 0MB | Util   0% | Total 15079MB\n"
          ],
          "name": "stdout"
        }
      ]
    },
    {
      "cell_type": "code",
      "metadata": {
        "id": "CzY89UWFnViY",
        "colab_type": "code",
        "colab": {
          "base_uri": "https://localhost:8080/",
          "height": 1000
        },
        "outputId": "da117f84-7513-47ca-960d-c2de44a75c32"
      },
      "source": [
        "!python model.py"
      ],
      "execution_count": 4,
      "outputs": [
        {
          "output_type": "stream",
          "text": [
            "2020-08-05 17:14:41.848923: I tensorflow/stream_executor/platform/default/dso_loader.cc:48] Successfully opened dynamic library libcudart.so.10.1\n",
            "2020-08-05 17:14:43.548077: I tensorflow/stream_executor/platform/default/dso_loader.cc:48] Successfully opened dynamic library libcuda.so.1\n",
            "2020-08-05 17:14:43.601574: I tensorflow/stream_executor/cuda/cuda_gpu_executor.cc:982] successful NUMA node read from SysFS had negative value (-1), but there must be at least one NUMA node, so returning NUMA node zero\n",
            "2020-08-05 17:14:43.602160: I tensorflow/core/common_runtime/gpu/gpu_device.cc:1716] Found device 0 with properties: \n",
            "pciBusID: 0000:00:04.0 name: Tesla T4 computeCapability: 7.5\n",
            "coreClock: 1.59GHz coreCount: 40 deviceMemorySize: 14.73GiB deviceMemoryBandwidth: 298.08GiB/s\n",
            "2020-08-05 17:14:43.602199: I tensorflow/stream_executor/platform/default/dso_loader.cc:48] Successfully opened dynamic library libcudart.so.10.1\n",
            "2020-08-05 17:14:43.818078: I tensorflow/stream_executor/platform/default/dso_loader.cc:48] Successfully opened dynamic library libcublas.so.10\n",
            "2020-08-05 17:14:43.955720: I tensorflow/stream_executor/platform/default/dso_loader.cc:48] Successfully opened dynamic library libcufft.so.10\n",
            "2020-08-05 17:14:43.974582: I tensorflow/stream_executor/platform/default/dso_loader.cc:48] Successfully opened dynamic library libcurand.so.10\n",
            "2020-08-05 17:14:44.249452: I tensorflow/stream_executor/platform/default/dso_loader.cc:48] Successfully opened dynamic library libcusolver.so.10\n",
            "2020-08-05 17:14:44.267298: I tensorflow/stream_executor/platform/default/dso_loader.cc:48] Successfully opened dynamic library libcusparse.so.10\n",
            "2020-08-05 17:14:44.803629: I tensorflow/stream_executor/platform/default/dso_loader.cc:48] Successfully opened dynamic library libcudnn.so.7\n",
            "2020-08-05 17:14:44.803829: I tensorflow/stream_executor/cuda/cuda_gpu_executor.cc:982] successful NUMA node read from SysFS had negative value (-1), but there must be at least one NUMA node, so returning NUMA node zero\n",
            "2020-08-05 17:14:44.804444: I tensorflow/stream_executor/cuda/cuda_gpu_executor.cc:982] successful NUMA node read from SysFS had negative value (-1), but there must be at least one NUMA node, so returning NUMA node zero\n",
            "2020-08-05 17:14:44.805109: I tensorflow/core/common_runtime/gpu/gpu_device.cc:1858] Adding visible gpu devices: 0\n",
            "2020-08-05 17:14:44.861939: I tensorflow/core/platform/profile_utils/cpu_utils.cc:104] CPU Frequency: 2200000000 Hz\n",
            "2020-08-05 17:14:44.862131: I tensorflow/compiler/xla/service/service.cc:168] XLA service 0x1d8c840 initialized for platform Host (this does not guarantee that XLA will be used). Devices:\n",
            "2020-08-05 17:14:44.862157: I tensorflow/compiler/xla/service/service.cc:176]   StreamExecutor device (0): Host, Default Version\n",
            "2020-08-05 17:14:45.003067: I tensorflow/stream_executor/cuda/cuda_gpu_executor.cc:982] successful NUMA node read from SysFS had negative value (-1), but there must be at least one NUMA node, so returning NUMA node zero\n",
            "2020-08-05 17:14:45.003739: I tensorflow/compiler/xla/service/service.cc:168] XLA service 0x1d8cbc0 initialized for platform CUDA (this does not guarantee that XLA will be used). Devices:\n",
            "2020-08-05 17:14:45.003771: I tensorflow/compiler/xla/service/service.cc:176]   StreamExecutor device (0): Tesla T4, Compute Capability 7.5\n",
            "2020-08-05 17:14:45.004551: I tensorflow/stream_executor/cuda/cuda_gpu_executor.cc:982] successful NUMA node read from SysFS had negative value (-1), but there must be at least one NUMA node, so returning NUMA node zero\n",
            "2020-08-05 17:14:45.005116: I tensorflow/core/common_runtime/gpu/gpu_device.cc:1716] Found device 0 with properties: \n",
            "pciBusID: 0000:00:04.0 name: Tesla T4 computeCapability: 7.5\n",
            "coreClock: 1.59GHz coreCount: 40 deviceMemorySize: 14.73GiB deviceMemoryBandwidth: 298.08GiB/s\n",
            "2020-08-05 17:14:45.005166: I tensorflow/stream_executor/platform/default/dso_loader.cc:48] Successfully opened dynamic library libcudart.so.10.1\n",
            "2020-08-05 17:14:45.005207: I tensorflow/stream_executor/platform/default/dso_loader.cc:48] Successfully opened dynamic library libcublas.so.10\n",
            "2020-08-05 17:14:45.005231: I tensorflow/stream_executor/platform/default/dso_loader.cc:48] Successfully opened dynamic library libcufft.so.10\n",
            "2020-08-05 17:14:45.005253: I tensorflow/stream_executor/platform/default/dso_loader.cc:48] Successfully opened dynamic library libcurand.so.10\n",
            "2020-08-05 17:14:45.005275: I tensorflow/stream_executor/platform/default/dso_loader.cc:48] Successfully opened dynamic library libcusolver.so.10\n",
            "2020-08-05 17:14:45.005297: I tensorflow/stream_executor/platform/default/dso_loader.cc:48] Successfully opened dynamic library libcusparse.so.10\n",
            "2020-08-05 17:14:45.005319: I tensorflow/stream_executor/platform/default/dso_loader.cc:48] Successfully opened dynamic library libcudnn.so.7\n",
            "2020-08-05 17:14:45.005395: I tensorflow/stream_executor/cuda/cuda_gpu_executor.cc:982] successful NUMA node read from SysFS had negative value (-1), but there must be at least one NUMA node, so returning NUMA node zero\n",
            "2020-08-05 17:14:45.005975: I tensorflow/stream_executor/cuda/cuda_gpu_executor.cc:982] successful NUMA node read from SysFS had negative value (-1), but there must be at least one NUMA node, so returning NUMA node zero\n",
            "2020-08-05 17:14:45.006468: I tensorflow/core/common_runtime/gpu/gpu_device.cc:1858] Adding visible gpu devices: 0\n",
            "2020-08-05 17:14:45.009487: I tensorflow/stream_executor/platform/default/dso_loader.cc:48] Successfully opened dynamic library libcudart.so.10.1\n",
            "2020-08-05 17:14:48.152858: I tensorflow/core/common_runtime/gpu/gpu_device.cc:1257] Device interconnect StreamExecutor with strength 1 edge matrix:\n",
            "2020-08-05 17:14:48.152919: I tensorflow/core/common_runtime/gpu/gpu_device.cc:1263]      0 \n",
            "2020-08-05 17:14:48.152934: I tensorflow/core/common_runtime/gpu/gpu_device.cc:1276] 0:   N \n",
            "2020-08-05 17:14:48.157645: I tensorflow/stream_executor/cuda/cuda_gpu_executor.cc:982] successful NUMA node read from SysFS had negative value (-1), but there must be at least one NUMA node, so returning NUMA node zero\n",
            "2020-08-05 17:14:48.158311: I tensorflow/stream_executor/cuda/cuda_gpu_executor.cc:982] successful NUMA node read from SysFS had negative value (-1), but there must be at least one NUMA node, so returning NUMA node zero\n",
            "2020-08-05 17:14:48.158836: W tensorflow/core/common_runtime/gpu/gpu_bfc_allocator.cc:39] Overriding allow_growth setting because the TF_FORCE_GPU_ALLOW_GROWTH environment variable is set. Original config value was 0.\n",
            "2020-08-05 17:14:48.158887: I tensorflow/core/common_runtime/gpu/gpu_device.cc:1402] Created TensorFlow device (/job:localhost/replica:0/task:0/device:GPU:0 with 13962 MB memory) -> physical GPU (device: 0, name: Tesla T4, pci bus id: 0000:00:04.0, compute capability: 7.5)\n",
            "Downloading data from https://storage.googleapis.com/tensorflow/keras-applications/resnet/resnet50_weights_tf_dim_ordering_tf_kernels_notop.h5\n",
            "94773248/94765736 [==============================] - 0s 0us/step\n",
            "Model: \"main_model\"\n",
            "__________________________________________________________________________________________________\n",
            "Layer (type)                    Output Shape         Param #     Connected to                     \n",
            "==================================================================================================\n",
            "main_model_input (InputLayer)   [(None, 24, 128, 128 0                                            \n",
            "__________________________________________________________________________________________________\n",
            "encoder (Functional)            [(None, 24, 4, 4, 20 23587712    main_model_input[0][0]           \n",
            "__________________________________________________________________________________________________\n",
            "decoder_stage6_inter_conv (Conv (None, 24, 4, 4, 204 12584960    encoder[0][0]                    \n",
            "__________________________________________________________________________________________________\n",
            "decoder_stage6_inter_bn (BatchN (None, 24, 4, 4, 204 8192        decoder_stage6_inter_conv[0][0]  \n",
            "__________________________________________________________________________________________________\n",
            "decoder_stage6_inter_relu (Acti (None, 24, 4, 4, 204 0           decoder_stage6_inter_bn[0][0]    \n",
            "__________________________________________________________________________________________________\n",
            "decoder_stage6_intra_conv (Conv (None, 24, 4, 4, 204 37750784    decoder_stage6_inter_relu[0][0]  \n",
            "__________________________________________________________________________________________________\n",
            "decoder_stage6_intra_bn (BatchN (None, 24, 4, 4, 204 8192        decoder_stage6_intra_conv[0][0]  \n",
            "__________________________________________________________________________________________________\n",
            "decoder_stage6_intra_relu (Acti (None, 24, 4, 4, 204 0           decoder_stage6_intra_bn[0][0]    \n",
            "__________________________________________________________________________________________________\n",
            "decoder_stage6_upsample_intra_c (None, 24, 4, 4, 102 18875392    decoder_stage6_intra_relu[0][0]  \n",
            "__________________________________________________________________________________________________\n",
            "decoder_stage6_upsample_intra_b (None, 24, 4, 4, 102 4096        decoder_stage6_upsample_intra_con\n",
            "__________________________________________________________________________________________________\n",
            "decoder_stage6_upsample_intra_r (None, 24, 4, 4, 102 0           decoder_stage6_upsample_intra_bn[\n",
            "__________________________________________________________________________________________________\n",
            "decoder_stage6_upsample_trans_c (None, 24, 8, 8, 102 1049600     decoder_stage6_upsample_intra_rel\n",
            "__________________________________________________________________________________________________\n",
            "decoder_stage6_upsample_bn (Bat (None, 24, 8, 8, 102 4096        decoder_stage6_upsample_trans_con\n",
            "__________________________________________________________________________________________________\n",
            "decoder_stage6_upsample_relu (A (None, 24, 8, 8, 102 0           decoder_stage6_upsample_bn[0][0] \n",
            "__________________________________________________________________________________________________\n",
            "tf_op_layer_Add (TensorFlowOpLa [(None, 24, 8, 8, 10 0           decoder_stage6_upsample_relu[0][0\n",
            "                                                                 encoder[0][1]                    \n",
            "__________________________________________________________________________________________________\n",
            "decoder_stage7_upsample_intra_c (None, 24, 8, 8, 512 4719104     tf_op_layer_Add[0][0]            \n",
            "__________________________________________________________________________________________________\n",
            "decoder_stage7_upsample_intra_b (None, 24, 8, 8, 512 2048        decoder_stage7_upsample_intra_con\n",
            "__________________________________________________________________________________________________\n",
            "decoder_stage7_upsample_intra_r (None, 24, 8, 8, 512 0           decoder_stage7_upsample_intra_bn[\n",
            "__________________________________________________________________________________________________\n",
            "decoder_stage7_upsample_trans_c (None, 24, 16, 16, 5 262656      decoder_stage7_upsample_intra_rel\n",
            "__________________________________________________________________________________________________\n",
            "decoder_stage7_upsample_bn (Bat (None, 24, 16, 16, 5 2048        decoder_stage7_upsample_trans_con\n",
            "__________________________________________________________________________________________________\n",
            "decoder_stage7_upsample_relu (A (None, 24, 16, 16, 5 0           decoder_stage7_upsample_bn[0][0] \n",
            "__________________________________________________________________________________________________\n",
            "decoder_stage7_inter_conv (Conv (None, 24, 16, 16, 5 786944      decoder_stage7_upsample_relu[0][0\n",
            "__________________________________________________________________________________________________\n",
            "decoder_stage7_inter_bn (BatchN (None, 24, 16, 16, 5 2048        decoder_stage7_inter_conv[0][0]  \n",
            "__________________________________________________________________________________________________\n",
            "decoder_stage7_inter_relu (Acti (None, 24, 16, 16, 5 0           decoder_stage7_inter_bn[0][0]    \n",
            "__________________________________________________________________________________________________\n",
            "tf_op_layer_Add_1 (TensorFlowOp [(None, 24, 16, 16,  0           decoder_stage7_inter_relu[0][0]  \n",
            "                                                                 encoder[0][2]                    \n",
            "__________________________________________________________________________________________________\n",
            "decoder_stage8_upsample_intra_c (None, 24, 16, 16, 2 1179904     tf_op_layer_Add_1[0][0]          \n",
            "__________________________________________________________________________________________________\n",
            "decoder_stage8_upsample_intra_b (None, 24, 16, 16, 2 1024        decoder_stage8_upsample_intra_con\n",
            "__________________________________________________________________________________________________\n",
            "decoder_stage8_upsample_intra_r (None, 24, 16, 16, 2 0           decoder_stage8_upsample_intra_bn[\n",
            "__________________________________________________________________________________________________\n",
            "decoder_stage8_upsample_trans_c (None, 24, 32, 32, 2 65792       decoder_stage8_upsample_intra_rel\n",
            "__________________________________________________________________________________________________\n",
            "decoder_stage8_upsample_bn (Bat (None, 24, 32, 32, 2 1024        decoder_stage8_upsample_trans_con\n",
            "__________________________________________________________________________________________________\n",
            "decoder_stage8_upsample_relu (A (None, 24, 32, 32, 2 0           decoder_stage8_upsample_bn[0][0] \n",
            "__________________________________________________________________________________________________\n",
            "tf_op_layer_Add_2 (TensorFlowOp [(None, 24, 32, 32,  0           decoder_stage8_upsample_relu[0][0\n",
            "                                                                 encoder[0][3]                    \n",
            "__________________________________________________________________________________________________\n",
            "decoder_stage9a_upsample_intra_ (None, 24, 32, 32, 1 295040      tf_op_layer_Add_2[0][0]          \n",
            "__________________________________________________________________________________________________\n",
            "decoder_stage9a_upsample_intra_ (None, 24, 32, 32, 1 512         decoder_stage9a_upsample_intra_co\n",
            "__________________________________________________________________________________________________\n",
            "decoder_stage9a_upsample_intra_ (None, 24, 32, 32, 1 0           decoder_stage9a_upsample_intra_bn\n",
            "__________________________________________________________________________________________________\n",
            "decoder_stage9a_upsample_trans_ (None, 24, 64, 64, 1 16512       decoder_stage9a_upsample_intra_re\n",
            "__________________________________________________________________________________________________\n",
            "decoder_stage9a_upsample_bn (Ba (None, 24, 64, 64, 1 512         decoder_stage9a_upsample_trans_co\n",
            "__________________________________________________________________________________________________\n",
            "decoder_stage9a_upsample_relu ( (None, 24, 64, 64, 1 0           decoder_stage9a_upsample_bn[0][0]\n",
            "__________________________________________________________________________________________________\n",
            "decoder_stage9a_inter_conv (Con (None, 24, 64, 64, 1 49280       decoder_stage9a_upsample_relu[0][\n",
            "__________________________________________________________________________________________________\n",
            "decoder_stage9a_inter_bn (Batch (None, 24, 64, 64, 1 512         decoder_stage9a_inter_conv[0][0] \n",
            "__________________________________________________________________________________________________\n",
            "decoder_stage9a_inter_relu (Act (None, 24, 64, 64, 1 0           decoder_stage9a_inter_bn[0][0]   \n",
            "__________________________________________________________________________________________________\n",
            "decoder_stage9b_intra_conv (Con (None, 24, 64, 64, 6 73792       decoder_stage9a_inter_relu[0][0] \n",
            "__________________________________________________________________________________________________\n",
            "decoder_stage9b_intra_bn (Batch (None, 24, 64, 64, 6 256         decoder_stage9b_intra_conv[0][0] \n",
            "__________________________________________________________________________________________________\n",
            "decoder_stage9b_intra_relu (Act (None, 24, 64, 64, 6 0           decoder_stage9b_intra_bn[0][0]   \n",
            "__________________________________________________________________________________________________\n",
            "decoder_stage9b_inter_conv (Con (None, 24, 64, 64, 6 12352       decoder_stage9b_intra_relu[0][0] \n",
            "__________________________________________________________________________________________________\n",
            "decoder_stage9b_inter_bn (Batch (None, 24, 64, 64, 6 256         decoder_stage9b_inter_conv[0][0] \n",
            "__________________________________________________________________________________________________\n",
            "decoder_stage9b_inter_relu (Act (None, 24, 64, 64, 6 0           decoder_stage9b_inter_bn[0][0]   \n",
            "__________________________________________________________________________________________________\n",
            "decoder_stage10a_upsample_intra (None, 24, 64, 64, 6 36928       decoder_stage9b_inter_relu[0][0] \n",
            "__________________________________________________________________________________________________\n",
            "decoder_stage10a_upsample_intra (None, 24, 64, 64, 6 256         decoder_stage10a_upsample_intra_c\n",
            "__________________________________________________________________________________________________\n",
            "decoder_stage10a_upsample_intra (None, 24, 64, 64, 6 0           decoder_stage10a_upsample_intra_b\n",
            "__________________________________________________________________________________________________\n",
            "decoder_stage10a_upsample_trans (None, 24, 128, 128, 4160        decoder_stage10a_upsample_intra_r\n",
            "__________________________________________________________________________________________________\n",
            "decoder_stage10a_upsample_bn (B (None, 24, 128, 128, 256         decoder_stage10a_upsample_trans_c\n",
            "__________________________________________________________________________________________________\n",
            "decoder_stage10a_upsample_relu  (None, 24, 128, 128, 0           decoder_stage10a_upsample_bn[0][0\n",
            "__________________________________________________________________________________________________\n",
            "decoder_stage10a_intra_conv (Co (None, 24, 128, 128, 36928       decoder_stage10a_upsample_relu[0]\n",
            "__________________________________________________________________________________________________\n",
            "decoder_stage10a_intra_bn (Batc (None, 24, 128, 128, 256         decoder_stage10a_intra_conv[0][0]\n",
            "__________________________________________________________________________________________________\n",
            "decoder_stage10a_intra_relu (Ac (None, 24, 128, 128, 0           decoder_stage10a_intra_bn[0][0]  \n",
            "__________________________________________________________________________________________________\n",
            "decoder_stage10a_inter_conv (Co (None, 24, 128, 128, 12352       decoder_stage10a_intra_relu[0][0]\n",
            "__________________________________________________________________________________________________\n",
            "decoder_stage10a_inter_bn (Batc (None, 24, 128, 128, 256         decoder_stage10a_inter_conv[0][0]\n",
            "__________________________________________________________________________________________________\n",
            "decoder_stage10a_inter_relu (Ac (None, 24, 128, 128, 0           decoder_stage10a_inter_bn[0][0]  \n",
            "__________________________________________________________________________________________________\n",
            "decoder_stage10b_inter_conv (Co (None, 24, 128, 128, 3088        decoder_stage10a_inter_relu[0][0]\n",
            "__________________________________________________________________________________________________\n",
            "decoder_stage10b_inter_bn (Batc (None, 24, 128, 128, 64          decoder_stage10b_inter_conv[0][0]\n",
            "__________________________________________________________________________________________________\n",
            "decoder_stage10b_inter_relu (Ac (None, 24, 128, 128, 0           decoder_stage10b_inter_bn[0][0]  \n",
            "__________________________________________________________________________________________________\n",
            "decoder_stage10b_intra_conv (Co (None, 24, 128, 128, 2320        decoder_stage10b_inter_relu[0][0]\n",
            "__________________________________________________________________________________________________\n",
            "decoder_stage10b_intra_bn (Batc (None, 24, 128, 128, 64          decoder_stage10b_intra_conv[0][0]\n",
            "__________________________________________________________________________________________________\n",
            "decoder_stage10b_intra_relu (Ac (None, 24, 128, 128, 0           decoder_stage10b_intra_bn[0][0]  \n",
            "__________________________________________________________________________________________________\n",
            "decoder_pred_conv (Conv3D)      (None, 24, 128, 128, 68          decoder_stage10b_intra_relu[0][0]\n",
            "==================================================================================================\n",
            "Total params: 101,441,636\n",
            "Trainable params: 77,835,940\n",
            "Non-trainable params: 23,605,696\n",
            "__________________________________________________________________________________________________\n"
          ],
          "name": "stdout"
        }
      ]
    },
    {
      "cell_type": "markdown",
      "metadata": {
        "colab_type": "text",
        "id": "v3fE7KmKRDsH"
      },
      "source": [
        "## Observe TensorFlow speedup on GPU relative to CPU\n",
        "\n",
        "This example constructs a typical convolutional neural network layer over a\n",
        "random image and manually places the resulting ops on either the CPU or the GPU\n",
        "to compare execution speed."
      ]
    },
    {
      "cell_type": "code",
      "metadata": {
        "colab_type": "code",
        "id": "Y04m-jvKRDsJ",
        "colab": {
          "base_uri": "https://localhost:8080/",
          "height": 139
        },
        "outputId": "bb32a619-b9f8-4866-fe6a-40d8c5341e7e"
      },
      "source": [
        "%tensorflow_version 2.x\n",
        "import tensorflow as tf\n",
        "import timeit\n",
        "\n",
        "device_name = tf.test.gpu_device_name()\n",
        "if device_name != '/device:GPU:0':\n",
        "  print(\n",
        "      '\\n\\nThis error most likely means that this notebook is not '\n",
        "      'configured to use a GPU.  Change this in Notebook Settings via the '\n",
        "      'command palette (cmd/ctrl-shift-P) or the Edit menu.\\n\\n')\n",
        "  raise SystemError('GPU device not found')\n",
        "\n",
        "def cpu():\n",
        "  with tf.device('/cpu:0'):\n",
        "    random_image_cpu = tf.random.normal((100, 100, 100, 3))\n",
        "    net_cpu = tf.keras.layers.Conv2D(32, 7)(random_image_cpu)\n",
        "    return tf.math.reduce_sum(net_cpu)\n",
        "\n",
        "def gpu():\n",
        "  with tf.device('/device:GPU:0'):\n",
        "    random_image_gpu = tf.random.normal((100, 100, 100, 3))\n",
        "    net_gpu = tf.keras.layers.Conv2D(32, 7)(random_image_gpu)\n",
        "    return tf.math.reduce_sum(net_gpu)\n",
        "  \n",
        "# We run each op once to warm up; see: https://stackoverflow.com/a/45067900\n",
        "cpu()\n",
        "gpu()\n",
        "\n",
        "# Run the op several times.\n",
        "print('Time (s) to convolve 32x7x7x3 filter over random 100x100x100x3 images '\n",
        "      '(batch x height x width x channel). Sum of ten runs.')\n",
        "print('CPU (s):')\n",
        "cpu_time = timeit.timeit('cpu()', number=10, setup=\"from __main__ import cpu\")\n",
        "print(cpu_time)\n",
        "print('GPU (s):')\n",
        "gpu_time = timeit.timeit('gpu()', number=10, setup=\"from __main__ import gpu\")\n",
        "print(gpu_time)\n",
        "print('GPU speedup over CPU: {}x'.format(int(cpu_time/gpu_time)))"
      ],
      "execution_count": null,
      "outputs": [
        {
          "output_type": "stream",
          "text": [
            "Time (s) to convolve 32x7x7x3 filter over random 100x100x100x3 images (batch x height x width x channel). Sum of ten runs.\n",
            "CPU (s):\n",
            "3.862475891000031\n",
            "GPU (s):\n",
            "0.10837535100017703\n",
            "GPU speedup over CPU: 35x\n"
          ],
          "name": "stdout"
        }
      ]
    }
  ]
}